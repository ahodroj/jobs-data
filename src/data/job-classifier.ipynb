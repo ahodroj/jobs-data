{
 "cells": [
  {
   "cell_type": "code",
   "execution_count": null,
   "metadata": {},
   "outputs": [],
   "source": [
    "# OpenAI \n",
    "import openai\n",
    "from openai import OpenAI\n",
    "import os\n",
    "from dotenv import load_dotenv\n",
    "\n",
    "load_dotenv()\n",
    "\n",
    "client = OpenAI(api_key=\"sk-eabaf5f7d8ea4e4bbc2c0e6279c6f448\", base_url=\"https://api.deepseek.com\") \n",
    "\n",
    "text_to_analyze = \"The ideal candidate will have experience in data analysis, strong SQL skills, and a passion for uncovering insights from complex datasets.  We are looking for a skilled Data Analyst to join our team.\"\n",
    "\n",
    "response = client.chat.completions.create(\n",
    "    model=\"deepseek-chat\", \n",
    "\n",
    "    messages=[\n",
    "        {\"role\": \"system\", \"content\": \"You are a helpful assistant.\"},\n",
    "        {\"role\": \"user\", \"content\": f\"What is the job role mentioned in this text: {text_to_analyze}\"}\n",
    "    ]\n",
    ")\n",
    "\n",
    "job_role = response.choices[0].message.content.strip()\n",
    "print(job_role)  # Output: \"Data Analyst\" \n"
   ]
  }
 ],
 "metadata": {
  "kernelspec": {
   "display_name": "3.10.15",
   "language": "python",
   "name": "python3"
  },
  "language_info": {
   "codemirror_mode": {
    "name": "ipython",
    "version": 3
   },
   "file_extension": ".py",
   "mimetype": "text/x-python",
   "name": "python",
   "nbconvert_exporter": "python",
   "pygments_lexer": "ipython3",
   "version": "3.10.15"
  }
 },
 "nbformat": 4,
 "nbformat_minor": 2
}
